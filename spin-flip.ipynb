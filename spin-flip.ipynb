{
 "cells": [
  {
   "cell_type": "code",
   "execution_count": 1,
   "metadata": {},
   "outputs": [],
   "source": [
    "import torch \n",
    "import time \n",
    "from libs.hij_tensor import get_comb_tensor, spin_flip_rand, uint8_to_bit"
   ]
  },
  {
   "cell_type": "code",
   "execution_count": 5,
   "metadata": {},
   "outputs": [
    {
     "name": "stdout",
     "output_type": "stream",
     "text": [
      "tensor([[ 15,   0,   0,   0,   0,   0,   0,   0],\n",
      "        [ 27,   0,   0,   0,   0,   0,   0,   0],\n",
      "        [ 30,   0,   0,   0,   0,   0,   0,   0],\n",
      "        [ 39,   0,   0,   0,   0,   0,   0,   0],\n",
      "        [ 45,   0,   0,   0,   0,   0,   0,   0],\n",
      "        [ 51,   0,   0,   0,   0,   0,   0,   0],\n",
      "        [ 54,   0,   0,   0,   0,   0,   0,   0],\n",
      "        [ 57,   0,   0,   0,   0,   0,   0,   0],\n",
      "        [ 60,   0,   0,   0,   0,   0,   0,   0],\n",
      "        [ 75,   0,   0,   0,   0,   0,   0,   0],\n",
      "        [ 78,   0,   0,   0,   0,   0,   0,   0],\n",
      "        [ 90,   0,   0,   0,   0,   0,   0,   0],\n",
      "        [ 99,   0,   0,   0,   0,   0,   0,   0],\n",
      "        [102,   0,   0,   0,   0,   0,   0,   0],\n",
      "        [105,   0,   0,   0,   0,   0,   0,   0],\n",
      "        [108,   0,   0,   0,   0,   0,   0,   0],\n",
      "        [135,   0,   0,   0,   0,   0,   0,   0],\n",
      "        [141,   0,   0,   0,   0,   0,   0,   0],\n",
      "        [147,   0,   0,   0,   0,   0,   0,   0],\n",
      "        [150,   0,   0,   0,   0,   0,   0,   0],\n",
      "        [153,   0,   0,   0,   0,   0,   0,   0],\n",
      "        [156,   0,   0,   0,   0,   0,   0,   0],\n",
      "        [165,   0,   0,   0,   0,   0,   0,   0],\n",
      "        [195,   0,   0,   0,   0,   0,   0,   0],\n",
      "        [198,   0,   0,   0,   0,   0,   0,   0],\n",
      "        [201,   0,   0,   0,   0,   0,   0,   0],\n",
      "        [204,   0,   0,   0,   0,   0,   0,   0]], dtype=torch.uint8)\n",
      "tensor([ 3735,  3676,  3736,  3643,  3700,  4331,  1509,  2177,  1516,  3674,\n",
      "         3738,  1503,  6667,  2216,  3266,  2193,  3709,  3711,  4410,  1452,\n",
      "         2264,  1430,  3333, 13075,  4356,  6569,  4411])\n",
      "0b11000011\n"
     ]
    }
   ],
   "source": [
    "x = torch.tensor([0b00001111, 0, 0, 0, 0, 0, 0, 0], dtype=torch.uint8, device=\"cpu\")\n",
    "a = []\n",
    "\n",
    "for i in range(100000):\n",
    "    x0 = spin_flip_rand(x.clone(), 8, 4, 2023)[1].reshape(1, -1)\n",
    "    a.append(x0.clone())\n",
    "\n",
    "unique_sample, idx = torch.unique(torch.cat(a), dim=0, return_counts=True)\n",
    "print(unique_sample)\n",
    "print(idx)\n",
    "print(bin(195))"
   ]
  },
  {
   "cell_type": "code",
   "execution_count": 4,
   "metadata": {},
   "outputs": [
    {
     "name": "stdout",
     "output_type": "stream",
     "text": [
      "tensor([[ 15,   0,   0,   0,   0,   0,   0,   0],\n",
      "        [ 30,   0,   0,   0,   0,   0,   0,   0],\n",
      "        [ 78,   0,   0,   0,   0,   0,   0,   0],\n",
      "        [ 45,   0,   0,   0,   0,   0,   0,   0],\n",
      "        [141,   0,   0,   0,   0,   0,   0,   0],\n",
      "        [ 27,   0,   0,   0,   0,   0,   0,   0],\n",
      "        [ 75,   0,   0,   0,   0,   0,   0,   0],\n",
      "        [ 39,   0,   0,   0,   0,   0,   0,   0],\n",
      "        [135,   0,   0,   0,   0,   0,   0,   0],\n",
      "        [ 60,   0,   0,   0,   0,   0,   0,   0],\n",
      "        [156,   0,   0,   0,   0,   0,   0,   0],\n",
      "        [108,   0,   0,   0,   0,   0,   0,   0],\n",
      "        [204,   0,   0,   0,   0,   0,   0,   0],\n",
      "        [ 90,   0,   0,   0,   0,   0,   0,   0],\n",
      "        [ 54,   0,   0,   0,   0,   0,   0,   0],\n",
      "        [150,   0,   0,   0,   0,   0,   0,   0],\n",
      "        [102,   0,   0,   0,   0,   0,   0,   0],\n",
      "        [198,   0,   0,   0,   0,   0,   0,   0],\n",
      "        [ 57,   0,   0,   0,   0,   0,   0,   0],\n",
      "        [153,   0,   0,   0,   0,   0,   0,   0],\n",
      "        [105,   0,   0,   0,   0,   0,   0,   0],\n",
      "        [201,   0,   0,   0,   0,   0,   0,   0],\n",
      "        [165,   0,   0,   0,   0,   0,   0,   0],\n",
      "        [ 51,   0,   0,   0,   0,   0,   0,   0],\n",
      "        [147,   0,   0,   0,   0,   0,   0,   0],\n",
      "        [ 99,   0,   0,   0,   0,   0,   0,   0],\n",
      "        [195,   0,   0,   0,   0,   0,   0,   0]], dtype=torch.uint8)\n"
     ]
    }
   ],
   "source": [
    "x1 = get_comb_tensor(x, 8, 4, True)\n",
    "print(x1)"
   ]
  }
 ],
 "metadata": {
  "kernelspec": {
   "display_name": "Python 3",
   "language": "python",
   "name": "python3"
  },
  "language_info": {
   "codemirror_mode": {
    "name": "ipython",
    "version": 3
   },
   "file_extension": ".py",
   "mimetype": "text/x-python",
   "name": "python",
   "nbconvert_exporter": "python",
   "pygments_lexer": "ipython3",
   "version": "3.9.13"
  },
  "orig_nbformat": 4,
  "vscode": {
   "interpreter": {
    "hash": "2c763cec028a98f3e988162684808c3005c60a7dccfebd0b415fd12b14c9f0b8"
   }
  }
 },
 "nbformat": 4,
 "nbformat_minor": 2
}
