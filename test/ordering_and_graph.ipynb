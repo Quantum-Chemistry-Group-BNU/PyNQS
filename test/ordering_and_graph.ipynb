{
 "cells": [
  {
   "cell_type": "code",
   "execution_count": null,
   "id": "38819fda-c40c-4376-91fe-9c109ed79abf",
   "metadata": {},
   "outputs": [],
   "source": [
    "import numpy as np\n",
    "import scipy\n",
    "import matplotlib.pyplot as plt\n",
    "import pyscf\n",
    "from pyscf import gto,scf,fci,lo,mcscf\n",
    "from pyscf import ao2mo\n",
    "from pyscf.tools import molden"
   ]
  },
  {
   "cell_type": "code",
   "execution_count": null,
   "id": "5692f032-fd97-477a-aa86-881177153046",
   "metadata": {},
   "outputs": [],
   "source": [
    "molname = 'hplane34'\n",
    "natoms = 6\n",
    "r = 1.0\n",
    "\n",
    "mol = gto.Mole()\n",
    "mol.verbose = 0\n",
    "\n",
    "if molname == 'hchain':\n",
    "    mol.atom = [['H',(0.0,0.0,i*r)] for i in range(natoms)]\n",
    "\n",
    "elif molname == 'hplane':\n",
    "    mol.atom = [['H',(0.,0.,0.)],\n",
    "                ['H',(0.,0.,r)],\n",
    "                ['H',(0.,0.,2*r)],\n",
    "                ['H',(0.,r,0)],\n",
    "                ['H',(0.,r,r)],\n",
    "                ['H',(0.,r,2*r)]]\n",
    "\n",
    "elif molname == 'hplane34':\n",
    "    atom = []\n",
    "    for i in range(3):\n",
    "        for j in range(4):\n",
    "            x = i * 4.0\n",
    "            y = j * 4.0\n",
    "            atom += [['H', (x, y, 0)]]\n",
    "    mol.atom = atom\n",
    "    mol.unit='bohr'\n",
    "    \n",
    "elif molname == 'hplane44':\n",
    "    atom = []\n",
    "    for i in range(4):\n",
    "        for j in range(4):\n",
    "            x = i * 4.0\n",
    "            y = j * 4.0\n",
    "            atom += [['H', (x, y, 0)]]\n",
    "    mol.atom = atom\n",
    "    mol.unit='bohr'\n",
    "\n",
    "elif molname == 'n2':\n",
    "    mol.atom = [['N',(0.,0.,0.)],\n",
    "                ['N',(0.,0.,r)]]\n",
    "\n",
    "elif molname == 'hf':\n",
    "    mol.atom = [['H',(0.,0.,0.)],\n",
    "                ['F',(0.,0.,r)]]\n",
    "\n",
    "elif molname == 'c2':\n",
    "    mol.atom = [['C',(0.,0.,0.)],\n",
    "                ['C',(0.,0.,r)]]\n",
    "elif molname == 'hcube332':\n",
    "    atom = []\n",
    "    for k in range(2):\n",
    "        for j in range(3):\n",
    "            for i in range(3):\n",
    "                x = i * 4.0\n",
    "                y = j * 4.0\n",
    "                z = k * 4.0\n",
    "                atom += [['H', (x, y, z)]]\n",
    "                # atom += f\"H, {x:.2f}, {y:.2f}, {z:.2f} ;\\n\"\n",
    "    mol.atom = atom\n",
    "    mol.unit='bohr'\n",
    "    \n",
    "mol.verbose = 5\n",
    "mol.basis = 'sto-3g' \n",
    "mol.symmetry = True \n",
    "mol.charge = 0\n",
    "mol.spin = 0\n",
    "mol.build()\n",
    "\n",
    "mf = scf.RHF(mol)\n",
    "mf.init_guess = 'atom'\n",
    "mf.level_shift = 0.0\n",
    "mf.max_cycle = 100\n",
    "mf.conv_tol=1.e-14\n",
    "mf.scf()"
   ]
  },
  {
   "cell_type": "code",
   "execution_count": null,
   "id": "2fa1d2b1-b594-4cc4-b029-7be3e57c7bbe",
   "metadata": {},
   "outputs": [],
   "source": [
    "mf.mo_energy"
   ]
  },
  {
   "cell_type": "code",
   "execution_count": null,
   "id": "35e6ef65-f227-4928-acf9-2a5e7c5bd6ab",
   "metadata": {},
   "outputs": [],
   "source": [
    "# from pyscf import mcscf, mrpt\n",
    "\n",
    "# mc = mcscf.CASSCF(mf,4,4)\n",
    "# ecas = mc.kernel()[0]\n",
    "# ept2 = mrpt.NEVPT(mc).kernel()\n",
    "# ecas, ecas + ept2"
   ]
  },
  {
   "cell_type": "code",
   "execution_count": null,
   "id": "4a009a37-908b-48e2-8ce4-adc20014db3c",
   "metadata": {},
   "outputs": [],
   "source": [
    "# mc = mcscf.CASSCF(mf,12,12)\n",
    "# ecas = mc.kernel()[0]\n",
    "# ept2 = mrpt.NEVPT(mc).kernel()\n",
    "# ecas, ecas + ept2"
   ]
  },
  {
   "cell_type": "code",
   "execution_count": null,
   "id": "b6a4d1fe-b547-4313-b69a-b94464d251d9",
   "metadata": {},
   "outputs": [],
   "source": [
    "# from pyscf import cc\n",
    "# mycc = cc.CCSD(mf).run()\n",
    "# print('CCSD total energy', mycc.e_tot)\n",
    "# et = mycc.ccsd_t()\n",
    "# print('CCSD(T) total energy', mycc.e_tot + et)"
   ]
  },
  {
   "cell_type": "code",
   "execution_count": null,
   "id": "a10af8c4-e386-43bb-9031-c4bc0088a4ae",
   "metadata": {},
   "outputs": [],
   "source": [
    "mo = 'oao'\n",
    "if mo == 'cmo':\n",
    "    mo_coeff = mf.mo_coeff\n",
    "elif mo == 'oao':\n",
    "    mo_coeff = lo.orth_ao(mol, method=\"meta-lowdin\")\n",
    "molden.from_mo(mol, 'mo.molden', mo_coeff)\n",
    "\n",
    "norb = mo_coeff.shape[1]\n",
    "h1 = mo_coeff.T.dot(mf.get_hcore()).dot(mo_coeff)\n",
    "eri = ao2mo.kernel(mol, mo_coeff)"
   ]
  },
  {
   "cell_type": "code",
   "execution_count": null,
   "id": "0db783aa-63ec-4ce8-86dd-02fcce6c773c",
   "metadata": {},
   "outputs": [],
   "source": [
    "# #\n",
    "# # FCI\n",
    "# #\n",
    "\n",
    "# cisolver = fci.direct_spin1.FCI(mol)\n",
    "# cisolver = pyscf.fci.addons.fix_spin(cisolver,shift=0.05,ss=0)\n",
    "# cisolver.nroots = 2 #10\n",
    "# norb = mol.nao\n",
    "# nelec = [mol.nelectron//2,mol.nelectron//2]\n",
    "# e, ci = cisolver.kernel(h1, eri, norb, nelec, ecore=mol.energy_nuc(), max_cycle=1000)\n",
    "# e"
   ]
  },
  {
   "cell_type": "code",
   "execution_count": null,
   "id": "c8e9dec0-4159-4fba-822e-6c78feb9e60a",
   "metadata": {},
   "outputs": [],
   "source": [
    "eri = ao2mo.general(mol,(mo_coeff,mo_coeff,mo_coeff,mo_coeff),compact=0).reshape(norb,norb,norb,norb)"
   ]
  },
  {
   "cell_type": "code",
   "execution_count": null,
   "id": "2b0864f3-ab9d-4e50-8ae1-239ff60ac835",
   "metadata": {},
   "outputs": [],
   "source": [
    "kij = np.einsum('ijji->ij',eri)"
   ]
  },
  {
   "cell_type": "markdown",
   "id": "bac503ce-3625-4f39-88fd-85f3ca4d783b",
   "metadata": {},
   "source": [
    "# 1. generate a 1D ordering"
   ]
  },
  {
   "cell_type": "code",
   "execution_count": null,
   "id": "0322a8de-6614-455a-8c29-1b5f966d2a9c",
   "metadata": {},
   "outputs": [],
   "source": [
    "# import utils.graph.fielder\n",
    "from utils.graph import fielder\n",
    "\n",
    "forder = fielder.orbitalOrdering(kij,mode='kmat',debug=False)\n",
    "forder"
   ]
  },
  {
   "cell_type": "code",
   "execution_count": null,
   "id": "0cc5a10c-d22f-47d8-9df8-89f46cefae7a",
   "metadata": {},
   "outputs": [],
   "source": [
    "from utils.graph import greedy\n",
    "\n",
    "gorder0 = greedy.greedyOrdering(kij,iwt=0)[-1]\n",
    "gorder1 = greedy.greedyOrdering(kij,iwt=1)[-1]\n",
    "\n",
    "print(gorder0)\n",
    "print(gorder1)"
   ]
  },
  {
   "cell_type": "markdown",
   "id": "b6d9c8bb-ddd3-4597-b6b5-8fa744dad830",
   "metadata": {},
   "source": [
    "# 2. add connections to other sites based on weights on graph"
   ]
  },
  {
   "cell_type": "code",
   "execution_count": null,
   "id": "f274430f-426f-4b89-831a-42993cf77bab",
   "metadata": {},
   "outputs": [],
   "source": [
    "from utils.graph import nxutils"
   ]
  },
  {
   "cell_type": "code",
   "execution_count": null,
   "id": "87425c56-0285-483d-aab4-4d08c774650e",
   "metadata": {},
   "outputs": [],
   "source": [
    "graph0 = nxutils.fromKijToGraph(kij)\n",
    "nxutils.displayGraph(graph0,kij)"
   ]
  },
  {
   "cell_type": "code",
   "execution_count": null,
   "id": "d82dac4b-9ba0-4457-bed4-cac86901b89c",
   "metadata": {},
   "outputs": [],
   "source": [
    "fgraph = nxutils.fromOrderToDiGraph(forder)\n",
    "nxutils.displayCircular(fgraph)"
   ]
  },
  {
   "cell_type": "code",
   "execution_count": null,
   "id": "69b86957",
   "metadata": {},
   "outputs": [],
   "source": [
    "import networkx\n",
    "\n",
    "networkx.__version__"
   ]
  },
  {
   "cell_type": "code",
   "execution_count": null,
   "id": "cab8c90c-4a79-4cd5-b541-a85c671cb808",
   "metadata": {},
   "outputs": [],
   "source": [
    "nxutils.displayGraphHighlight(graph0,kij,fgraph)"
   ]
  },
  {
   "cell_type": "code",
   "execution_count": null,
   "id": "0c0223f5-77c3-4682-bf1e-7a291b2adfca",
   "metadata": {},
   "outputs": [],
   "source": [
    "maxdes = 2\n",
    "fgraph2 = nxutils.addEdgesByGreedySearch(fgraph,kij,maxdes)\n",
    "nxutils.displayCircular(fgraph2)"
   ]
  },
  {
   "cell_type": "code",
   "execution_count": null,
   "id": "aa7ffdb0-3900-461e-9543-0fe66e4a032e",
   "metadata": {},
   "outputs": [],
   "source": [
    "nxutils.displayGraphHighlight(graph0,kij,fgraph2)"
   ]
  },
  {
   "cell_type": "code",
   "execution_count": null,
   "id": "6608e962-9566-45b6-a6ca-8be1898f7b0d",
   "metadata": {},
   "outputs": [],
   "source": [
    "maxdes = len(graph0.nodes)-1\n",
    "graph2 = nxutils.addEdgesByGreedySearch(fgraph,kij,maxdes)\n",
    "nxutils.displayCircular(graph2)"
   ]
  },
  {
   "cell_type": "code",
   "execution_count": null,
   "id": "fa72b1bf-3dd0-4475-82f0-4baf3886f695",
   "metadata": {},
   "outputs": [],
   "source": [
    "nxutils.displayGraphHighlight(graph0,kij,graph2)"
   ]
  },
  {
   "cell_type": "markdown",
   "id": "8ccba767-ccb8-4346-83bd-6e364259d668",
   "metadata": {},
   "source": [
    "# greedy"
   ]
  },
  {
   "cell_type": "code",
   "execution_count": null,
   "id": "ecde4ff7-b42e-4cb3-9787-8dd3a7489910",
   "metadata": {},
   "outputs": [],
   "source": [
    "graph = nxutils.fromOrderToDiGraph(gorder0)\n",
    "nxutils.displayCircular(graph)"
   ]
  },
  {
   "cell_type": "code",
   "execution_count": null,
   "id": "fd0811da-b369-41d4-9ae8-1b43a192048c",
   "metadata": {},
   "outputs": [],
   "source": [
    "maxdes = 2\n",
    "graph2 = nxutils.addEdgesByGreedySearch(graph,kij,maxdes)\n",
    "nxutils.displayCircular(graph2)"
   ]
  },
  {
   "cell_type": "markdown",
   "id": "302c8283-42e9-4bcd-ac0e-1a2f9b8b4a0c",
   "metadata": {},
   "source": [
    "# User defined graph"
   ]
  },
  {
   "cell_type": "code",
   "execution_count": null,
   "id": "bf6153eb-9087-421c-a31d-231bd15da07b",
   "metadata": {},
   "outputs": [],
   "source": [
    "import networkx as nx\n",
    "\n",
    "# define the geomtry of lattice\n",
    "\n",
    "edges = [[0,1],[1,2],[2,3],\n",
    "                      [0,4],[1,5],[2,6],[3,7],\n",
    "                      [4,5],[5,6],[6,7],\n",
    "                      [4,8],[5,9],[6,10],[7,11],\n",
    "                     [8,9],[9,10],[10,11],\n",
    "                      [8,12],[9,13],[10,14],[11,15],\n",
    "                     [12,13],[13,14],[14,15]\n",
    "                     ]\n",
    "tij = np.zeros((16,16))\n",
    "for i,j in edges:\n",
    "    tij[i,j] = 1\n",
    "    tij[j,i] = 1"
   ]
  },
  {
   "cell_type": "code",
   "execution_count": null,
   "id": "dcf579af-bb9e-49c2-b3c6-3c3992bbccfd",
   "metadata": {},
   "outputs": [],
   "source": [
    "graph = nx.Graph()\n",
    "graph.add_edges_from(edges)\n",
    "nnodes = len(graph.nodes)"
   ]
  },
  {
   "cell_type": "code",
   "execution_count": null,
   "id": "eba3de24-b091-4dfc-8b86-38d40fd4703e",
   "metadata": {},
   "outputs": [],
   "source": [
    "nx.draw_spring(graph, labels=dict(zip(range(nnodes),range(nnodes))))"
   ]
  },
  {
   "cell_type": "code",
   "execution_count": null,
   "id": "190a7911-e7c7-4e98-a842-96871c9315d7",
   "metadata": {},
   "outputs": [],
   "source": [
    "nxutils.displayCircular(graph)"
   ]
  },
  {
   "cell_type": "code",
   "execution_count": null,
   "id": "e6cad0a0-3286-4d80-ac48-775d44a8e395",
   "metadata": {},
   "outputs": [],
   "source": [
    "forder = fielder.orbitalOrdering(kij,'kmat')\n",
    "print('forder=',forder)\n",
    "fgraph = nxutils.fromOrderToDiGraph(forder)\n",
    "nxutils.displayCircular(fgraph)"
   ]
  },
  {
   "cell_type": "code",
   "execution_count": null,
   "id": "893ce34d-2f14-47fc-b678-02663e0896e9",
   "metadata": {},
   "outputs": [],
   "source": [
    "maxdes = 1\n",
    "fgraph2 = nxutils.addEdgesByGreedySearch(fgraph,kij,maxdes)\n",
    "nxutils.displayCircular(fgraph2)"
   ]
  },
  {
   "cell_type": "markdown",
   "id": "b43df6f1-46a3-4f0d-bc5f-faf53facf935",
   "metadata": {},
   "source": [
    "# Highlight path on graph"
   ]
  },
  {
   "cell_type": "code",
   "execution_count": null,
   "id": "b7cda731-d2cc-4191-bafb-04f4077da02a",
   "metadata": {},
   "outputs": [],
   "source": [
    "pos = nx.spring_layout(graph, seed=0)\n",
    "nx.draw_networkx_nodes(graph, pos, node_size=500, node_color='black')\n",
    "labels = dict(zip(graph.nodes,graph.nodes))\n",
    "nx.draw_networkx_labels(graph, pos, labels, font_size=15, font_color=\"whitesmoke\")\n",
    "nx.draw_networkx_edges(graph, pos, width=1.0, alpha=0.8)\n",
    "nx.draw_networkx_edges(\n",
    "    fgraph,\n",
    "    pos,\n",
    "    edgelist=list(fgraph.edges),\n",
    "    edge_color=\"tab:red\",\n",
    "    width=5,\n",
    "    alpha=0.6,\n",
    ")\n",
    "plt.show()"
   ]
  },
  {
   "cell_type": "code",
   "execution_count": null,
   "id": "e3096ec6-dcad-4826-94ba-186f8d15703f",
   "metadata": {},
   "outputs": [],
   "source": [
    "pos = nx.spring_layout(graph, seed=0)\n",
    "nx.draw_networkx_nodes(graph, pos, node_size=500, node_color='black')\n",
    "labels = dict(zip(graph.nodes,graph.nodes))\n",
    "nx.draw_networkx_labels(graph, pos, labels, font_size=15, font_color=\"whitesmoke\")\n",
    "nx.draw_networkx_edges(graph, pos, width=1.0, alpha=0.8)\n",
    "nx.draw_networkx_edges(\n",
    "    fgraph,\n",
    "    pos,\n",
    "    edgelist=list(fgraph.edges),\n",
    "    edge_color=\"tab:red\",\n",
    "    width=5,\n",
    "    alpha=0.8,\n",
    ")\n",
    "edgecomplement = [edge for edge in list(fgraph2.edges) if (edge[0],edge[1]) not in list(fgraph.edges) and (edge[1],edge[0]) not in list(fgraph.edges)]\n",
    "print('edgecomplement=',edgecomplement)\n",
    "nx.draw_networkx_edges(\n",
    "    fgraph2,\n",
    "    pos,\n",
    "    edgelist=edgecomplement,\n",
    "    edge_color=\"tab:green\",\n",
    "    width=5,\n",
    "    alpha=0.5,\n",
    ")\n",
    "plt.show()"
   ]
  },
  {
   "cell_type": "code",
   "execution_count": null,
   "id": "0823ab74",
   "metadata": {},
   "outputs": [],
   "source": []
  }
 ],
 "metadata": {
  "kernelspec": {
   "display_name": "Python 3 (ipykernel)",
   "language": "python",
   "name": "python3"
  },
  "language_info": {
   "codemirror_mode": {
    "name": "ipython",
    "version": 3
   },
   "file_extension": ".py",
   "mimetype": "text/x-python",
   "name": "python",
   "nbconvert_exporter": "python",
   "pygments_lexer": "ipython3",
   "version": "3.10.13"
  }
 },
 "nbformat": 4,
 "nbformat_minor": 5
}
